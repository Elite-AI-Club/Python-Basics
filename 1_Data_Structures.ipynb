{
 "cells": [
  {
   "cell_type": "markdown",
   "id": "50e2435d",
   "metadata": {},
   "source": [
    "# **Python Data Structures**\n",
    "    \n",
    "#### **Introduction**\n",
    "This Jupyter Notebook provides an overview and hands-on exercises for Python's fundamental data structures.\n",
    "You'll learn about Lists, Tuples, Sets, and Dictionaries with real-world examples and interactive exercises.\n",
    "    "
   ]
  },
  {
   "cell_type": "markdown",
   "id": "c1aa1d3b",
   "metadata": {},
   "source": [
    "\n",
    "#### **1. Lists**\n",
    "\n",
    "**Definition and Usage**\n",
    "\n",
    "Lists in Python are ordered collections that are changeable and allow duplicate members.\n",
    "They are ideal for storing items that can change over the life of a program.\n",
    "\n",
    "**Examples**\n",
    "    "
   ]
  },
  {
   "cell_type": "code",
   "execution_count": null,
   "id": "1c5c3d14",
   "metadata": {},
   "outputs": [],
   "source": [
    "\n",
    "# Creating a list of fruits\n",
    "fruits = [\"apple\", \"banana\", \"cherry\"]\n",
    "print(\"Original list:\", fruits)\n",
    "\n",
    "# Adding an element\n",
    "fruits.append(\"orange\")\n",
    "print(\"After appending:\", fruits)\n",
    "\n",
    "# Removing an element\n",
    "fruits.remove(\"banana\")\n",
    "print(\"After removing:\", fruits)\n",
    "    "
   ]
  },
  {
   "cell_type": "markdown",
   "id": "d969e41e",
   "metadata": {},
   "source": [
    "\n",
    "**Exercise**\n",
    "\n",
    "Create a list of your favorite movies and use append() to add another movie to the list.\n",
    "Then remove one movie from the list using remove().\n"
   ]
  },
  {
   "cell_type": "code",
   "execution_count": null,
   "id": "b5e86698",
   "metadata": {},
   "outputs": [],
   "source": [
    "\n",
    "movies = []  # Start with an empty list\n",
    "# Add your code below\n",
    "    "
   ]
  },
  {
   "cell_type": "markdown",
   "id": "954e442c",
   "metadata": {},
   "source": [
    "\n",
    "#### **2. Tuples**\n",
    "\n",
    "**Definition and Usage**\n",
    "\n",
    "Tuples are like lists, but they are immutable (they cannot be changed after they are created).\n",
    "They are useful for storing a record of data that should not change.\n",
    "\n",
    "**Examples**\n",
    "    "
   ]
  },
  {
   "cell_type": "code",
   "execution_count": null,
   "id": "849310f5",
   "metadata": {},
   "outputs": [],
   "source": [
    "\n",
    "# Creating a tuple\n",
    "coordinates = (10.0, 20.0)\n",
    "print(\"Coordinates:\", coordinates)\n",
    "\n",
    "# Tuples are immutable, so we cannot change an element\n",
    "# coordinates[0] = 15.0  # Uncommenting this line will raise a TypeError\n",
    "    "
   ]
  },
  {
   "cell_type": "markdown",
   "id": "fa54f795",
   "metadata": {},
   "source": [
    "\n",
    "**Exercise**\n",
    "\n",
    "Create a tuple with different types of data (integer, float, string) and print each element.\n"
   ]
  },
  {
   "cell_type": "code",
   "execution_count": null,
   "id": "91ece321",
   "metadata": {},
   "outputs": [],
   "source": [
    "\n",
    "data_tuple = ()\n",
    "# Add your code below\n",
    "    "
   ]
  },
  {
   "cell_type": "markdown",
   "id": "bcd608ca",
   "metadata": {},
   "source": [
    "\n",
    "#### **3. Sets**\n",
    "\n",
    "**Definition and Usage**\n",
    "Sets are unordered collections of unique elements. They are useful when you want to store unique items and perform operations like union and intersection.\n",
    "\n",
    "**Examples**\n"
   ]
  },
  {
   "cell_type": "code",
   "execution_count": null,
   "id": "1ded304d",
   "metadata": {},
   "outputs": [],
   "source": [
    "\n",
    "# Creating sets\n",
    "set_a = {\"apple\", \"banana\", \"cherry\"}\n",
    "set_b = {\"banana\", \"pear\", \"kiwi\"}\n",
    "\n",
    "# Performing union and intersection\n",
    "union_set = set_a | set_b\n",
    "intersection_set = set_a & set_b\n",
    "\n",
    "print(\"Union:\", union_set)\n",
    "print(\"Intersection:\", intersection_set)\n",
    "    "
   ]
  },
  {
   "cell_type": "markdown",
   "id": "92f4d23c",
   "metadata": {},
   "source": [
    "\n",
    "**Exercise**\n",
    "\n",
    "Create two sets of colors, find their union and intersection, and print the results.\n"
   ]
  },
  {
   "cell_type": "code",
   "execution_count": null,
   "id": "058b5acc",
   "metadata": {},
   "outputs": [],
   "source": [
    "\n",
    "colors_set_1 = set()\n",
    "colors_set_2 = set()\n",
    "# Add your code below\n",
    "    "
   ]
  },
  {
   "cell_type": "markdown",
   "id": "6835f8ee",
   "metadata": {},
   "source": [
    "\n",
    "#### **4. Dictionaries**\n",
    "\n",
    "**Definition and Usage**\n",
    "\n",
    "Dictionaries are collections which are unordered, changeable, and indexed by keys.\n",
    "They are ideal for storing data values in key:value pairs.\n",
    "\n",
    "**Examples**\n"
   ]
  },
  {
   "cell_type": "code",
   "execution_count": null,
   "id": "dd86f507",
   "metadata": {},
   "outputs": [],
   "source": [
    "\n",
    "# Creating a dictionary\n",
    "person = {\n",
    "    \"name\": \"John\",\n",
    "    \"age\": 30,\n",
    "    \"city\": \"New York\"\n",
    "}\n",
    "print(\"Person:\", person)\n",
    "\n",
    "# Accessing elements\n",
    "print(\"Name:\", person[\"name\"])\n",
    "\n",
    "# Adding a new key-value pair\n",
    "person[\"job\"] = \"Engineer\"\n",
    "print(\"Updated Person:\", person)\n",
    "    "
   ]
  },
  {
   "cell_type": "markdown",
   "id": "ac86fadd",
   "metadata": {},
   "source": [
    "\n",
    "**Exercise**\n",
    "\n",
    "Create a dictionary to store information about a vehicle (e.g., brand, model, year, color) and print each value.\n"
   ]
  },
  {
   "cell_type": "code",
   "execution_count": null,
   "id": "aaf7b582",
   "metadata": {},
   "outputs": [],
   "source": [
    "\n",
    "vehicle = {}\n",
    "# Add your code below\n",
    "    "
   ]
  },
  {
   "cell_type": "markdown",
   "id": "95d64810",
   "metadata": {},
   "source": [
    "\n",
    "#### **Conclusion**\n",
    "\n",
    "**Wrap-up and Further Questions**\n",
    "\n",
    "This session covered the basic data structures in Python. Try to use these structures to solve problems and store data effectively in your projects.\n",
    "Feel free to ask any questions or propose additional exercises to further explore these concepts.\n"
   ]
  },
  {
   "cell_type": "markdown",
   "id": "62fec1a5",
   "metadata": {},
   "source": []
  }
 ],
 "metadata": {
  "language_info": {
   "name": "python"
  }
 },
 "nbformat": 4,
 "nbformat_minor": 5
}
