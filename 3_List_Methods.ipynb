{
 "cells": [
  {
   "cell_type": "markdown",
   "id": "34c8c5b8",
   "metadata": {},
   "source": [
    "\n",
    "    ### **Comprehensive Guide to Python List Methods**\n",
    "    \n",
    "    #### **Introduction**\n",
    "    This Jupyter Notebook provides a detailed guide to all functions and methods of Python lists, accompanied by real-time usage examples.\n",
    "    "
   ]
  },
  {
   "cell_type": "markdown",
   "id": "2ecf07c1",
   "metadata": {},
   "source": [
    "\n",
    "    #### **Overview of List Methods**\n",
    "    Python lists offer a variety of methods that allow for dynamic data manipulation. Below we explore each method in detail with practical examples.\n",
    "    "
   ]
  },
  {
   "cell_type": "markdown",
   "id": "dc25d88b",
   "metadata": {},
   "source": [
    "\n",
    "    #### **append(item)**\n",
    "    Adds an item to the end of the list.\n",
    "    "
   ]
  },
  {
   "cell_type": "code",
   "execution_count": null,
   "id": "d9c66ffa",
   "metadata": {},
   "outputs": [],
   "source": [
    "\n",
    "tasks = []\n",
    "tasks.append(\"Do laundry\")\n",
    "tasks.append(\"Clean dishes\")\n",
    "print(\"Tasks List:\", tasks)\n",
    "    "
   ]
  },
  {
   "cell_type": "markdown",
   "id": "3bd45730",
   "metadata": {},
   "source": [
    "\n",
    "    #### **extend(iterable)**\n",
    "    Extends the list by adding all elements of an iterable (e.g., another list, tuple) to the end.\n",
    "    "
   ]
  },
  {
   "cell_type": "code",
   "execution_count": null,
   "id": "9c9b0120",
   "metadata": {},
   "outputs": [],
   "source": [
    "\n",
    "more_tasks = [\"Buy groceries\", \"Call mom\"]\n",
    "tasks.extend(more_tasks)\n",
    "print(\"Extended Tasks List:\", tasks)\n",
    "    "
   ]
  },
  {
   "cell_type": "markdown",
   "id": "a5ecc98c",
   "metadata": {},
   "source": [
    "\n",
    "    #### **insert(index, item)**\n",
    "    Inserts an item at a specified position in the list.\n",
    "    "
   ]
  },
  {
   "cell_type": "code",
   "execution_count": null,
   "id": "4d4ef67b",
   "metadata": {},
   "outputs": [],
   "source": [
    "\n",
    "tasks.insert(2, \"Walk the dog\")\n",
    "print(\"Tasks List After Insert:\", tasks)\n",
    "    "
   ]
  },
  {
   "cell_type": "markdown",
   "id": "dd2c906b",
   "metadata": {},
   "source": [
    "\n",
    "    #### **remove(item)**\n",
    "    Removes the first occurrence of an item.\n",
    "    "
   ]
  },
  {
   "cell_type": "code",
   "execution_count": null,
   "id": "f4d52e5e",
   "metadata": {},
   "outputs": [],
   "source": [
    "\n",
    "tasks.remove(\"Clean dishes\")\n",
    "print(\"Tasks List After Remove:\", tasks)\n",
    "    "
   ]
  },
  {
   "cell_type": "markdown",
   "id": "f1932a78",
   "metadata": {},
   "source": [
    "\n",
    "    #### **pop(index=-1)**\n",
    "    Removes and returns an item at a given position. If no index is specified, it removes and returns the last item.\n",
    "    "
   ]
  },
  {
   "cell_type": "code",
   "execution_count": null,
   "id": "883a07c7",
   "metadata": {},
   "outputs": [],
   "source": [
    "\n",
    "last_task = tasks.pop()\n",
    "print(\"Last Task Removed:\", last_task)\n",
    "print(\"Current Tasks List:\", tasks)\n",
    "    "
   ]
  },
  {
   "cell_type": "markdown",
   "id": "38376870",
   "metadata": {},
   "source": [
    "\n",
    "    #### **clear()**\n",
    "    Removes all items from the list.\n",
    "    "
   ]
  },
  {
   "cell_type": "code",
   "execution_count": null,
   "id": "13a8feee",
   "metadata": {},
   "outputs": [],
   "source": [
    "\n",
    "tasks.clear()\n",
    "print(\"Tasks List After Clear:\", tasks)\n",
    "    "
   ]
  },
  {
   "cell_type": "markdown",
   "id": "bc7a31cd",
   "metadata": {},
   "source": [
    "\n",
    "    #### **index(item)**\n",
    "    Returns the index of the first occurrence of an item.\n",
    "    "
   ]
  },
  {
   "cell_type": "code",
   "execution_count": null,
   "id": "43c39b93",
   "metadata": {},
   "outputs": [],
   "source": [
    "\n",
    "tasks = [\"Wake up\", \"Brush teeth\", \"Work out\", \"Have breakfast\"]\n",
    "print(\"Index of 'Work out':\", tasks.index(\"Work out\"))\n",
    "    "
   ]
  },
  {
   "cell_type": "markdown",
   "id": "e382ded4",
   "metadata": {},
   "source": [
    "\n",
    "    #### **count(item)**\n",
    "    Returns the number of times an item appears in the list.\n",
    "    "
   ]
  },
  {
   "cell_type": "code",
   "execution_count": null,
   "id": "2f3bed00",
   "metadata": {},
   "outputs": [],
   "source": [
    "\n",
    "numbers = [1, 2, 3, 4, 2, 2, 3]\n",
    "print(\"Count of 2 in list:\", numbers.count(2))\n",
    "    "
   ]
  },
  {
   "cell_type": "markdown",
   "id": "d08eea5f",
   "metadata": {},
   "source": [
    "\n",
    "    #### **sort()**\n",
    "    Sorts the items of the list in ascending order.\n",
    "    "
   ]
  },
  {
   "cell_type": "code",
   "execution_count": null,
   "id": "3cd528ae",
   "metadata": {},
   "outputs": [],
   "source": [
    "\n",
    "numbers.sort()\n",
    "print(\"Sorted Numbers:\", numbers)\n",
    "    "
   ]
  },
  {
   "cell_type": "markdown",
   "id": "43ed6415",
   "metadata": {},
   "source": [
    "\n",
    "    #### **reverse()**\n",
    "    Reverses the items of the list in place.\n",
    "    "
   ]
  },
  {
   "cell_type": "code",
   "execution_count": null,
   "id": "a162b473",
   "metadata": {},
   "outputs": [],
   "source": [
    "\n",
    "numbers.reverse()\n",
    "print(\"Reversed Numbers:\", numbers)\n",
    "    "
   ]
  },
  {
   "cell_type": "markdown",
   "id": "45cdd5c0",
   "metadata": {},
   "source": [
    "\n",
    "    #### **Conclusion**\n",
    "    This notebook covered all the fundamental methods available to manipulate and manage lists in Python. By incorporating these methods, you can effectively handle list-based data in your projects.\n",
    "    "
   ]
  }
 ],
 "metadata": {},
 "nbformat": 4,
 "nbformat_minor": 5
}
