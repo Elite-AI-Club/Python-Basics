{
 "cells": [
  {
   "cell_type": "markdown",
   "id": "4cb515d5",
   "metadata": {},
   "source": [
    "\n",
    "### **Python Lists**\n",
    "\n",
    "#### **Introduction**\n",
    "\n",
    "This Jupyter Notebook is dedicated to exploring Python lists in depth, providing a comprehensive guide to their usage and methods with real-time examples.\n"
   ]
  },
  {
   "cell_type": "markdown",
   "id": "1b7a05bd",
   "metadata": {},
   "source": [
    "\n",
    "#### **Overview of Lists**\n",
    "\n",
    "Lists in Python are mutable sequences, typically used to store collections of homogeneous items.\n",
    "\n",
    "**Properties of Lists:**\n",
    "\n",
    "- Lists are ordered.\n",
    "- Lists can contain any type of objects: numbers, strings, and even other lists.\n",
    "- Lists are mutable, which means they can be modified.\n",
    "- Lists are dynamic; they can grow and shrink as needed.\n"
   ]
  },
  {
   "cell_type": "markdown",
   "id": "454c6d76",
   "metadata": {},
   "source": [
    "\n",
    "#### **Creating Lists**\n",
    "\n",
    "You can create a list by enclosing elements in square brackets, separated by commas.\n"
   ]
  },
  {
   "cell_type": "code",
   "execution_count": null,
   "id": "06c11890",
   "metadata": {},
   "outputs": [],
   "source": [
    "\n",
    "# Example of creating a list\n",
    "simple_list = [1, 2, 3, 4, 5]\n",
    "print(\"Simple List:\", simple_list)\n",
    "\n",
    "# List with mixed data types\n",
    "mixed_list = [1, \"Hello\", 3.14, [1, 2, 3]]\n",
    "print(\"Mixed Data Types List:\", mixed_list)\n",
    "    "
   ]
  },
  {
   "cell_type": "markdown",
   "id": "bdb1a4ae",
   "metadata": {},
   "source": [
    "\n",
    "#### **Accessing Elements**\n",
    "\n",
    "You can access elements in a list by their index. Python uses zero-based indexing.\n"
   ]
  },
  {
   "cell_type": "code",
   "execution_count": null,
   "id": "7786a7c0",
   "metadata": {},
   "outputs": [],
   "source": [
    "\n",
    "# Accessing elements\n",
    "print(\"First Element:\", simple_list[0])\n",
    "print(\"Last Element:\", simple_list[-1])  # Negative indexing starts from the end\n",
    "    "
   ]
  },
  {
   "cell_type": "markdown",
   "id": "398e0bff",
   "metadata": {},
   "source": [
    "\n",
    "#### **Modifying Lists**\n",
    "\n",
    "Lists are mutable, meaning their elements can be changed after creation.\n"
   ]
  },
  {
   "cell_type": "code",
   "execution_count": null,
   "id": "b944f10d",
   "metadata": {},
   "outputs": [],
   "source": [
    "\n",
    "# Modifying elements\n",
    "simple_list[2] = \"three\"\n",
    "print(\"Modified List:\", simple_list)\n",
    "\n",
    "# Adding elements\n",
    "simple_list.append(6)\n",
    "print(\"After Appending:\", simple_list)\n",
    "\n",
    "# Removing elements\n",
    "simple_list.remove(\"three\")\n",
    "print(\"After Removing:\", simple_list)\n",
    "    "
   ]
  },
  {
   "cell_type": "markdown",
   "id": "72700e89",
   "metadata": {},
   "source": [
    "\n",
    "#### **Real-time Example: Task Management**\n",
    "\n",
    "Let's use a list to manage a simple to-do list for task management.\n"
   ]
  },
  {
   "cell_type": "code",
   "execution_count": null,
   "id": "767011c4",
   "metadata": {},
   "outputs": [],
   "source": [
    "\n",
    "# Task List\n",
    "tasks = [\"Wake up\", \"Brush teeth\", \"Work out\", \"Have breakfast\"]\n",
    "print(\"Initial Tasks:\", tasks)\n",
    "\n",
    "# Marking 'Wake up' as done\n",
    "tasks.remove(\"Wake up\")\n",
    "print(\"Updated Tasks:\", tasks)\n",
    "\n",
    "# Adding new task\n",
    "tasks.append(\"Read book\")\n",
    "print(\"Tasks with New Addition:\", tasks)\n",
    "    "
   ]
  },
  {
   "cell_type": "markdown",
   "id": "002581d4",
   "metadata": {},
   "source": [
    "\n",
    "#### **Conclusion**\n",
    "\n",
    "This notebook explored various methods and properties of Python lists. Experiment with these examples to get comfortable using lists in real applications.\n",
    "    "
   ]
  },
  {
   "cell_type": "markdown",
   "id": "d7014551",
   "metadata": {},
   "source": []
  }
 ],
 "metadata": {
  "language_info": {
   "name": "python"
  }
 },
 "nbformat": 4,
 "nbformat_minor": 5
}
